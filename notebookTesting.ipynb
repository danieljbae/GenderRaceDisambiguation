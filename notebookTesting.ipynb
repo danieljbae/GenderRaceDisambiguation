{
 "metadata": {
  "language_info": {
   "codemirror_mode": {
    "name": "ipython",
    "version": 3
   },
   "file_extension": ".py",
   "mimetype": "text/x-python",
   "name": "python",
   "nbconvert_exporter": "python",
   "pygments_lexer": "ipython3",
   "version": "3.7.3-final"
  },
  "orig_nbformat": 2,
  "kernelspec": {
   "name": "python3",
   "display_name": "Python 3",
   "language": "python"
  }
 },
 "nbformat": 4,
 "nbformat_minor": 2,
 "cells": [
  {
   "source": [
    "# Patent Data "
   ],
   "cell_type": "markdown",
   "metadata": {}
  },
  {
   "cell_type": "code",
   "execution_count": 21,
   "metadata": {},
   "outputs": [
    {
     "output_type": "stream",
     "name": "stdout",
     "text": [
      "c:\\Users\\danie\\Desktop\\Research\\Gender_Race_Disambiguation\\Python Script - Refactor\n"
     ]
    }
   ],
   "source": [
    "import pandas as pd\n",
    "import os\n",
    "import csv, sqlite3\n",
    "print(os.getcwd())"
   ]
  },
  {
   "cell_type": "code",
   "execution_count": 22,
   "metadata": {},
   "outputs": [],
   "source": [
    "import pandas as pd\n",
    "filePath = 'data/patentData/ExaminerPatentMap.csv'"
   ]
  },
  {
   "cell_type": "code",
   "execution_count": 23,
   "metadata": {},
   "outputs": [],
   "source": [
    "Examiner_map = pd.read_csv(filePath).fillna(\"\")"
   ]
  },
  {
   "cell_type": "code",
   "execution_count": 24,
   "metadata": {},
   "outputs": [
    {
     "output_type": "stream",
     "name": "stdout",
     "text": [
      "4568489\n"
     ]
    }
   ],
   "source": [
    "flagVar = \"E\"\n",
    "\n",
    "if flagVar == \"E\":\n",
    "    ### Drops specific to Primary Examiners \n",
    "        PrimaryExaminers = Examiner_map.copy()\n",
    "        PrimaryExaminers = PrimaryExaminers.drop(PrimaryExaminers[PrimaryExaminers.PrimaryID == ''].index)\n",
    "        PrimaryExaminers = PrimaryExaminers.drop(PrimaryExaminers[PrimaryExaminers.Primary_Firstname == ''].index)\n",
    "        PrimaryExaminers = PrimaryExaminers.drop(PrimaryExaminers[PrimaryExaminers.Primary_Lastname == ''].index)\n",
    "        print(len(PrimaryExaminers))\n",
    "\n"
   ]
  },
  {
   "cell_type": "code",
   "execution_count": 25,
   "metadata": {},
   "outputs": [
    {
     "output_type": "stream",
     "name": "stdout",
     "text": [
      "4569336\n"
     ]
    }
   ],
   "source": [
    "flagVar = \"E\"\n",
    "\n",
    "if flagVar == \"E\":\n",
    "    ### Drops specific to Primary Examiners \n",
    "        PrimaryExaminers = Examiner_map.copy()\n",
    "        PrimaryExaminers = PrimaryExaminers[(PrimaryExaminers.PrimaryID != '') | (PrimaryExaminers.Primary_Firstname != '') | (PrimaryExaminers.Primary_Lastname != '')]\n",
    "        print(len(PrimaryExaminers))\n"
   ]
  },
  {
   "cell_type": "code",
   "execution_count": 17,
   "metadata": {},
   "outputs": [
    {
     "output_type": "execute_result",
     "data": {
      "text/plain": [
       "True"
      ]
     },
     "metadata": {},
     "execution_count": 17
    }
   ],
   "source": [
    "4569883 == 4569883"
   ]
  },
  {
   "cell_type": "code",
   "execution_count": 28,
   "metadata": {},
   "outputs": [
    {
     "output_type": "execute_result",
     "data": {
      "text/plain": [
       "     Patent Assistant_Lastname Assistant_FirstName Primary_Lastname  \\\n",
       "0  04465170              HOUSE             DAVID D            BONCK   \n",
       "1  04465171              MEREK             JAMES J            BONCK   \n",
       "2  04465172                                                   BONCK   \n",
       "3  04465173                                                BARTUSKA   \n",
       "4  04465174            MILLMAN              STUART          VALENZA   \n",
       "\n",
       "  Primary_Firstname PrimaryID AssistantID  \n",
       "0          RODNEY H     10007       24435  \n",
       "1          RODNEY H     10007       30097  \n",
       "2          RODNEY H     10007              \n",
       "3               F J      8077              \n",
       "4          JOSEPH E       942         585  "
      ],
      "text/html": "<div>\n<style scoped>\n    .dataframe tbody tr th:only-of-type {\n        vertical-align: middle;\n    }\n\n    .dataframe tbody tr th {\n        vertical-align: top;\n    }\n\n    .dataframe thead th {\n        text-align: right;\n    }\n</style>\n<table border=\"1\" class=\"dataframe\">\n  <thead>\n    <tr style=\"text-align: right;\">\n      <th></th>\n      <th>Patent</th>\n      <th>Assistant_Lastname</th>\n      <th>Assistant_FirstName</th>\n      <th>Primary_Lastname</th>\n      <th>Primary_Firstname</th>\n      <th>PrimaryID</th>\n      <th>AssistantID</th>\n    </tr>\n  </thead>\n  <tbody>\n    <tr>\n      <th>0</th>\n      <td>04465170</td>\n      <td>HOUSE</td>\n      <td>DAVID D</td>\n      <td>BONCK</td>\n      <td>RODNEY H</td>\n      <td>10007</td>\n      <td>24435</td>\n    </tr>\n    <tr>\n      <th>1</th>\n      <td>04465171</td>\n      <td>MEREK</td>\n      <td>JAMES J</td>\n      <td>BONCK</td>\n      <td>RODNEY H</td>\n      <td>10007</td>\n      <td>30097</td>\n    </tr>\n    <tr>\n      <th>2</th>\n      <td>04465172</td>\n      <td></td>\n      <td></td>\n      <td>BONCK</td>\n      <td>RODNEY H</td>\n      <td>10007</td>\n      <td></td>\n    </tr>\n    <tr>\n      <th>3</th>\n      <td>04465173</td>\n      <td></td>\n      <td></td>\n      <td>BARTUSKA</td>\n      <td>F J</td>\n      <td>8077</td>\n      <td></td>\n    </tr>\n    <tr>\n      <th>4</th>\n      <td>04465174</td>\n      <td>MILLMAN</td>\n      <td>STUART</td>\n      <td>VALENZA</td>\n      <td>JOSEPH E</td>\n      <td>942</td>\n      <td>585</td>\n    </tr>\n  </tbody>\n</table>\n</div>"
     },
     "metadata": {},
     "execution_count": 28
    }
   ],
   "source": [
    "PrimaryExaminers.head()"
   ]
  },
  {
   "source": [
    "# Comverting CSV into .db"
   ],
   "cell_type": "markdown",
   "metadata": {}
  },
  {
   "cell_type": "code",
   "execution_count": 31,
   "metadata": {},
   "outputs": [],
   "source": [
    "import csv, sqlite3\n",
    "\n",
    "\n",
    "path = \"data/patentData/examinerPatentData.db\"\n",
    "\n",
    "con = sqlite3.connect(path) # change to 'sqlite:///your_filename.db'\n",
    "cur = con.cursor()\n",
    "cur.execute(\"CREATE TABLE examiner (Patent, Assistant_Lastname,Assistant_FirstName,Primary_Lastname,Primary_Firstname,PrimaryID,AssistantID);\") # use your column names here\n",
    "\n",
    "with open('data/patentData/ExaminerPatentMap.csv','r') as fin: # `with` statement available in 2.5+\n",
    "    # csv.DictReader uses first line in file for column headings by default\n",
    "    dr = csv.DictReader(fin) # comma is default delimiter\n",
    "    to_db = [(i['Patent'], i['Assistant_Lastname'],i['Assistant_FirstName'], i['Primary_Lastname'],i['Primary_Firstname'], i['PrimaryID'],i['AssistantID']) for i in dr]\n",
    "\n",
    "cur.executemany(\"INSERT INTO examiner (Patent, Assistant_Lastname,Assistant_FirstName,Primary_Lastname,Primary_Firstname,PrimaryID,AssistantID) VALUES (?,?,?,?,?,?,?);\", to_db)\n",
    "con.commit()\n",
    "con.close()"
   ]
  },
  {
   "cell_type": "code",
   "execution_count": 44,
   "metadata": {},
   "outputs": [
    {
     "output_type": "stream",
     "name": "stdout",
     "text": [
      "('04465170', 'HOUSE', 'DAVID D', 'BONCK', 'RODNEY H', '10007', '24435')\n('04465171', 'MEREK', 'JAMES J', 'BONCK', 'RODNEY H', '10007', '30097')\n('04465172', '', '', 'BONCK', 'RODNEY H', '10007', 'NA')\n('04465173', '', '', 'BARTUSKA', 'F J', '8077', 'NA')\n('04465174', 'MILLMAN', 'STUART', 'VALENZA', 'JOSEPH E', '942', '585')\n"
     ]
    }
   ],
   "source": [
    "con = sqlite3.connect(path) # change to 'sqlite:///your_filename.db'\n",
    "cur = con.cursor()\n",
    "\n",
    "cur.execute('SELECT * FROM examiner LIMIT 5;')\n",
    "records = cur.fetchall()\n",
    "\n",
    "for row in records[:5]:\n",
    "    print(row)\n",
    "\n",
    "con.commit()\n",
    "con.close()"
   ]
  },
  {
   "source": [
    "# Examiners (Primary): Dropping Rows"
   ],
   "cell_type": "markdown",
   "metadata": {}
  },
  {
   "cell_type": "code",
   "execution_count": null,
   "metadata": {},
   "outputs": [],
   "source": [
    "\n",
    "con = sqlite3.connect(path) # change to 'sqlite:///your_filename.db'\n",
    "cur = con.cursor()\n",
    "\n",
    "flagVar = \"E\"\n",
    "\n",
    "if flagVar == \"E\":\n",
    "    ### Drops specific to Primary Examiners \n",
    "    cur.execute('''SELECT Name, IFNULL(Age, 'unknown') AS Age FROM examiner''')\n",
    "\n",
    "    \n",
    "    PrimaryExaminers = Examiner_map.copy()\n",
    "    PrimaryExaminers = PrimaryExaminers[(PrimaryExaminers.PrimaryID != '') | (PrimaryExaminers.Primary_Firstname != '') | (PrimaryExaminers.Primary_Lastname != '')]\n",
    "    print(len(PrimaryExaminers))\n"
   ]
  }
 ]
}